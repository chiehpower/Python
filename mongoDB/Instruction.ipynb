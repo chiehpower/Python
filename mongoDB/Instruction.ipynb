{
 "cells": [
  {
   "cell_type": "code",
   "execution_count": 1,
   "id": "a851a1b8",
   "metadata": {},
   "outputs": [
    {
     "name": "stdout",
     "output_type": "stream",
     "text": [
      "Defaulting to user installation because normal site-packages is not writeable\n",
      "Requirement already satisfied: pymongo in /home/chieh/.local/lib/python3.6/site-packages (3.11.0)\n",
      "\u001b[33mWARNING: You are using pip version 21.3.1; however, version 22.0.4 is available.\n",
      "You should consider upgrading via the '/usr/bin/python3 -m pip install --upgrade pip' command.\u001b[0m\n"
     ]
    }
   ],
   "source": [
    "!python3 -m pip install pymongo"
   ]
  },
  {
   "cell_type": "code",
   "execution_count": 2,
   "id": "4edb9594",
   "metadata": {},
   "outputs": [],
   "source": [
    "import pymongo"
   ]
  },
  {
   "cell_type": "markdown",
   "id": "a4b473ad",
   "metadata": {},
   "source": [
    "## Create a database"
   ]
  },
  {
   "cell_type": "code",
   "execution_count": 3,
   "id": "1585f326",
   "metadata": {},
   "outputs": [],
   "source": [
    "myclient = pymongo.MongoClient(\"mongodb://0.0.0.0:27017/\", username='root', password='example')\n",
    "mydb = myclient[\"runoobdb\"]"
   ]
  },
  {
   "cell_type": "markdown",
   "id": "70f3cba1",
   "metadata": {},
   "source": [
    "## Check the database whether it exists or not"
   ]
  },
  {
   "cell_type": "code",
   "execution_count": 4,
   "id": "43d97626",
   "metadata": {},
   "outputs": [],
   "source": [
    "dblist = myclient.list_database_names()\n",
    "if \"runoobdb\" in dblist:\n",
    "    print(\"Existed!\")"
   ]
  },
  {
   "cell_type": "markdown",
   "id": "5739886a",
   "metadata": {},
   "source": [
    "## Create a set and insert something"
   ]
  },
  {
   "cell_type": "code",
   "execution_count": 5,
   "id": "fddf5816",
   "metadata": {},
   "outputs": [
    {
     "name": "stdout",
     "output_type": "stream",
     "text": [
      "<pymongo.results.InsertOneResult object at 0x7f8561158bc0>\n"
     ]
    }
   ],
   "source": [
    "mycol = mydb[\"sites\"]\n",
    "\n",
    "mydict = { \"name\": \"RUNOOB\", \"alexa\": \"10000\", \"url\": \"https://www.runoob.com\" }\n",
    "x = mycol.insert_one(mydict) \n",
    "print(x)"
   ]
  },
  {
   "cell_type": "markdown",
   "id": "f2bdd665",
   "metadata": {},
   "source": [
    "### Return back the ID"
   ]
  },
  {
   "cell_type": "code",
   "execution_count": 6,
   "id": "d38c3846",
   "metadata": {},
   "outputs": [
    {
     "name": "stdout",
     "output_type": "stream",
     "text": [
      "623c2a8833090bc1111cb5b1\n"
     ]
    }
   ],
   "source": [
    "print(x.inserted_id)"
   ]
  },
  {
   "cell_type": "markdown",
   "id": "73cbccf6",
   "metadata": {},
   "source": [
    "## Insert a lot of objects"
   ]
  },
  {
   "cell_type": "code",
   "execution_count": 7,
   "id": "055fd267",
   "metadata": {},
   "outputs": [
    {
     "name": "stdout",
     "output_type": "stream",
     "text": [
      "<pymongo.results.InsertManyResult object at 0x7f8560d9b080>\n",
      "[ObjectId('623c2a8933090bc1111cb5b2'), ObjectId('623c2a8933090bc1111cb5b3'), ObjectId('623c2a8933090bc1111cb5b4'), ObjectId('623c2a8933090bc1111cb5b5'), ObjectId('623c2a8933090bc1111cb5b6')]\n"
     ]
    }
   ],
   "source": [
    "mylist = [\n",
    "  { \"name\": \"Taobao\", \"alexa\": \"100\", \"url\": \"https://www.taobao.com\" },\n",
    "  { \"name\": \"QQ\", \"alexa\": \"101\", \"url\": \"https://www.qq.com\" },\n",
    "  { \"name\": \"Facebook\", \"alexa\": \"10\", \"url\": \"https://www.facebook.com\" },\n",
    "  { \"name\": \"知乎\", \"alexa\": \"103\", \"url\": \"https://www.zhihu.com\" },\n",
    "  { \"name\": \"Github\", \"alexa\": \"109\", \"url\": \"https://www.github.com\" }\n",
    "]\n",
    " \n",
    "x = mycol.insert_many(mylist)\n",
    "print(x)\n",
    "print(x.inserted_ids)"
   ]
  },
  {
   "cell_type": "markdown",
   "id": "0cd1c038",
   "metadata": {},
   "source": [
    "## Define the ID for each object"
   ]
  },
  {
   "cell_type": "code",
   "execution_count": 8,
   "id": "1228d02e",
   "metadata": {},
   "outputs": [
    {
     "name": "stdout",
     "output_type": "stream",
     "text": [
      "[1, 2, 3, 4, 5]\n"
     ]
    }
   ],
   "source": [
    "mylist = [\n",
    "  { \"_id\": 1, \"name\": \"RUNOOB\", \"cn_name\": \"test\"},\n",
    "  { \"_id\": 2, \"name\": \"Google\", \"address\": \"Google\"},\n",
    "  { \"_id\": 3, \"name\": \"Facebook\", \"address\": \"Facebook\"},\n",
    "  { \"_id\": 4, \"name\": \"Taobao\", \"address\": \"apple\"},\n",
    "  { \"_id\": 5, \"name\": \"Zhihu\", \"address\": \"uber\"}\n",
    "]\n",
    " \n",
    "x = mycol.insert_many(mylist)\n",
    "print(x.inserted_ids)"
   ]
  },
  {
   "cell_type": "code",
   "execution_count": null,
   "id": "ef745ac9",
   "metadata": {},
   "outputs": [],
   "source": []
  }
 ],
 "metadata": {
  "kernelspec": {
   "display_name": "Python 3 (ipykernel)",
   "language": "python",
   "name": "python3"
  },
  "language_info": {
   "codemirror_mode": {
    "name": "ipython",
    "version": 3
   },
   "file_extension": ".py",
   "mimetype": "text/x-python",
   "name": "python",
   "nbconvert_exporter": "python",
   "pygments_lexer": "ipython3",
   "version": "3.8.13"
  }
 },
 "nbformat": 4,
 "nbformat_minor": 5
}
