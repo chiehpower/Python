{
 "cells": [
  {
   "cell_type": "markdown",
   "metadata": {},
   "source": [
    "# Memory Occupation Issue\n",
    "In this session, my purpose is to discuss the memory issue in Python.\n",
    "\n",
    "If you only use `del` this command, it cannot really remove the memory in system. You still need to use `gc.collect()`."
   ]
  },
  {
   "cell_type": "code",
   "execution_count": 1,
   "metadata": {},
   "outputs": [],
   "source": [
    "import numpy as np\n",
    "import gc, time"
   ]
  },
  {
   "cell_type": "markdown",
   "metadata": {},
   "source": [
    "## memory-profiler \n",
    "> Info: https://pypi.org/project/memory-profiler/\n",
    "\n",
    "Command:\n",
    "```\n",
    "mprof run <executable>\n",
    "mprof\n",
    "```\n",
    "\n",
    "For exmaple,\n",
    "``` \n",
    "mprof run test.py\n",
    "mprof plot\n",
    "```\n",
    "\n",
    "List :\n",
    "```\n",
    "mprof run: running an executable, recording memory usage\n",
    "mprof plot: plotting one the recorded memory usage (by default, the last one)\n",
    "mprof list: listing all recorded memory usage files in a user-friendly way.\n",
    "mprof clean: removing all recorded memory usage files.\n",
    "mprof rm: removing specific recorded memory usage files\n",
    "```\n",
    "\n",
    "We can also our log of memory usage.\n",
    "```\n",
    "fp=open('memory_profiler.log','w+')\n",
    "@profile(stream=fp)\n",
    "```\n"
   ]
  },
  {
   "cell_type": "code",
   "execution_count": null,
   "metadata": {},
   "outputs": [],
   "source": [
    "from memory_profiler import profile\n",
    "%load_ext memory_profiler"
   ]
  },
  {
   "cell_type": "code",
   "execution_count": 3,
   "metadata": {},
   "outputs": [
    {
     "name": "stdout",
     "output_type": "stream",
     "text": [
      "\n"
     ]
    }
   ],
   "source": [
    "def my_func():\n",
    "    a = [1] * (10 ** 6)\n",
    "    b = [2] * (2 * 10 ** 7)\n",
    "    del b\n",
    "    return a\n",
    "\n",
    "if __name__ == '__main__':\n",
    "    %mprun my_func()"
   ]
  },
  {
   "cell_type": "code",
   "execution_count": 4,
   "metadata": {},
   "outputs": [
    {
     "name": "stdout",
     "output_type": "stream",
     "text": [
      "peak memory: 215.14 MiB, increment: 160.19 MiB\n",
      "\n"
     ]
    }
   ],
   "source": [
    "%memit my_func()\n",
    "%mprun my_func()"
   ]
  },
  {
   "cell_type": "markdown",
   "metadata": {},
   "source": [
    "https://jakevdp.github.io/PythonDataScienceHandbook/01.07-timing-and-profiling.html"
   ]
  }
 ],
 "metadata": {
  "kernelspec": {
   "display_name": "Python 3",
   "language": "python",
   "name": "python3"
  },
  "language_info": {
   "codemirror_mode": {
    "name": "ipython",
    "version": 3
   },
   "file_extension": ".py",
   "mimetype": "text/x-python",
   "name": "python",
   "nbconvert_exporter": "python",
   "pygments_lexer": "ipython3",
   "version": "3.6.9"
  }
 },
 "nbformat": 4,
 "nbformat_minor": 2
}
