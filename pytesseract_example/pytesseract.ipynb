{
 "cells": [
  {
   "cell_type": "markdown",
   "metadata": {},
   "source": [
    "Maintainer: Chieh"
   ]
  },
  {
   "cell_type": "code",
   "execution_count": 1,
   "metadata": {},
   "outputs": [],
   "source": [
    "from PIL import Image\n",
    "import pytesseract"
   ]
  },
  {
   "cell_type": "markdown",
   "metadata": {},
   "source": [
    "# Traditional Chinese"
   ]
  },
  {
   "cell_type": "markdown",
   "metadata": {},
   "source": [
    "<img src=\"./assets/1.jpg\" alt=\"drawing\" width=\"300\"/>"
   ]
  },
  {
   "cell_type": "code",
   "execution_count": 2,
   "metadata": {},
   "outputs": [
    {
     "name": "stdout",
     "output_type": "stream",
     "text": [
      "敦 近 想 挌 一 種 類 似 標 楨 體 的 字 型 ， 但 又 年\n",
      "想 要 那 麼 的 工 整 ， 比 較 像 的 暐 遷 是 手 寫 字\n",
      "型 ， 半 遇 又 太 遇 隨 性 一 點 ， 然 後 發 現 了 一\n",
      "款 克 費 的 中 文 字 型 叫 做 ﹁ 楊 任 東 竹 石 韆 】\n",
      "， 是 屬 於 手 寫 字 型 ， 但 是 算 是 相 當 工 整 ，\n",
      "卯 且 可 雕 用 並 支 援 簡 縷 體 ， 雖 然 沒 有 官 方\n",
      "網 站 ， 但 遽 是 讚 多 字 型 網 站 都 有 收 錄 下 來\n",
      "， 剛 好 就 拿 來 用 一 下 ， 效 果 頗 不 錯 的 ， 也\n",
      "仁 分 享 給 大 家 。\n"
     ]
    }
   ],
   "source": [
    "img1 = Image.open('./assets/1.jpg')\n",
    "text = pytesseract.image_to_string(img1, lang='chi_tra')\n",
    "print(text)"
   ]
  },
  {
   "cell_type": "markdown",
   "metadata": {},
   "source": [
    "<img src=\"./assets/2.png\" alt=\"drawing\" width=\"300\"/>"
   ]
  },
  {
   "cell_type": "code",
   "execution_count": 3,
   "metadata": {},
   "outputs": [
    {
     "name": "stdout",
     "output_type": "stream",
     "text": [
      "命 柿 柄 RK 熟 利 咽 不 靶 以 峙 嶄\n",
      "魄 喻 峙 制 峪 仲 境 穿 鎮 斗 城 寄\n",
      "粑 可 啋 聞 皿 ˊ 伍 梯 ˊ 始 怠 。\n",
      "現 祖 授 咎 始 嬰 繡 。 崎 脊 覬 鯤\n",
      "宗 垓 囊 利 十 崔 ﹒」 口 製 蟑 蕙 烈\n",
      "悔 聞 褓 翎 |I| 筠 ﹍ 悲 宛 噌 密 衪\n",
      "裳 為 坐 翔 ﹒ 蜜 。 氐 唏 忍 颺 颼\n",
      "蠖 臥 忒 蜜 1| ‧ ﹍ 磊 織 刁 ^ 匙\n",
      "鄭 氏 忍 祕 倉 賴 鼴 炒 霰 留 易 易\n",
      "塌 盒 。 柯 飄 咥 髦 跖 盟 。 巴 聚\n",
      "迎 。 咋 井 ^ 褫 姊 惋 恥 姜 颶 昧\n",
      "吸 凝 切 。 翥 嶔 髻 ﹣ | 岳 萱 早\n",
      "密 癡 益 翻 嬰 碰 崔 娟 盂 謝 惋 益\n"
     ]
    }
   ],
   "source": [
    "img2 = Image.open('./assets/2.png')\n",
    "text = pytesseract.image_to_string(img2, lang='chi_tra')\n",
    "print(text)"
   ]
  },
  {
   "cell_type": "markdown",
   "metadata": {},
   "source": [
    "<img src=\"./assets/3.png\" alt=\"drawing\" width=\"300\"/>"
   ]
  },
  {
   "cell_type": "code",
   "execution_count": 4,
   "metadata": {},
   "outputs": [
    {
     "name": "stdout",
     "output_type": "stream",
     "text": [
      "中 了 人 在 大 有 一 我 不 是 的\n",
      "也 交 學 就 來 上 為 好 會 你 個\n",
      "天 請 下 遂 生 唱 那 提 看 他 說\n",
      "後 自 機 都 對 工 出 電 盪 之 得\n",
      "成 信 很 台 國 知 家 只\n",
      "\n",
      "年 現 本 於 當 嗎 但\n",
      "\n",
      "同 何 章\n",
      "和 最 真 筱\n",
      "三 吧 些 樣 科 清 方 事 其 題 點\n",
      "\n",
      "渡 山 H[O 笭 嘉 涂 活 沙 哭\n",
      "窿 泰 蔡 帝\n"
     ]
    }
   ],
   "source": [
    "img3 = Image.open('./assets/3.png')\n",
    "text = pytesseract.image_to_string(img3, lang='chi_tra')\n",
    "print(text)"
   ]
  },
  {
   "cell_type": "markdown",
   "metadata": {},
   "source": [
    "<img src=\"./assets/4.jpeg\" alt=\"drawing\" width=\"300\"/>"
   ]
  },
  {
   "cell_type": "code",
   "execution_count": 5,
   "metadata": {},
   "outputs": [
    {
     "name": "stdout",
     "output_type": "stream",
     "text": [
      "\n"
     ]
    }
   ],
   "source": [
    "img4 = Image.open('./assets/4.jpeg')\n",
    "text = pytesseract.image_to_string(img4, lang='chi_tra')\n",
    "print(text)"
   ]
  },
  {
   "cell_type": "markdown",
   "metadata": {},
   "source": [
    "<img src=\"./assets/5.jpeg\" alt=\"drawing\" width=\"300\"/>"
   ]
  },
  {
   "cell_type": "code",
   "execution_count": 6,
   "metadata": {},
   "outputs": [
    {
     "name": "stdout",
     "output_type": "stream",
     "text": [
      "活 在 天 父 的 愛 中\n",
      "\n",
      "I\n",
      "【4o1KuL A 拐\n",
      "i K 拐\n",
      "oraa i\n",
      "B L\n",
      "\n",
      "M 工 下 4\n"
     ]
    }
   ],
   "source": [
    "img5 = Image.open('./assets/5.jpeg')\n",
    "text = pytesseract.image_to_string(img5, lang='chi_tra')\n",
    "print(text)"
   ]
  },
  {
   "cell_type": "markdown",
   "metadata": {},
   "source": [
    "# English"
   ]
  },
  {
   "cell_type": "markdown",
   "metadata": {},
   "source": [
    "<img src=\"./assets/6.jpg\" alt=\"drawing\" width=\"300\"/>"
   ]
  },
  {
   "cell_type": "code",
   "execution_count": 7,
   "metadata": {},
   "outputs": [
    {
     "name": "stdout",
     "output_type": "stream",
     "text": [
      "Dear Roy.\n",
      "\n",
      "I'm sorry to hear that you are having some problems in getting on\n",
      "here in China. But take it easy. I believe with your sincerity and\n",
      "friendliness. you will make more friends.\n",
      "\n",
      "Here are my suggestions. First, overcome your shyness. Be brave\n",
      "and open to others. Keep reminding yourself to wear a smile when\n",
      "meeting people. which can help you become more popular and build\n",
      "your confidence. Besides. join in more activities. where you may meet\n",
      "Ppeople who share common interests. Last but not least. let your\n",
      "friendship grow. It's a good thing to stay in touch with your friends\n",
      "often. After all. the best friendship is the one that grows naturally.\n",
      "\n",
      "I'm looking forward to hearing some stories about your new friends.\n",
      "\n",
      "Yours.\n",
      "Li Hua\n"
     ]
    }
   ],
   "source": [
    "img6 = Image.open('./assets/6.jpg')\n",
    "text = pytesseract.image_to_string(img6, lang='eng')\n",
    "print(text)"
   ]
  },
  {
   "cell_type": "markdown",
   "metadata": {},
   "source": [
    "<img src=\"./assets/7.png\" alt=\"drawing\" width=\"300\"/>"
   ]
  },
  {
   "cell_type": "code",
   "execution_count": 8,
   "metadata": {},
   "outputs": [
    {
     "name": "stdout",
     "output_type": "stream",
     "text": [
      "English Test\n",
      "\n",
      "There is a common English word that is\n",
      "seven letters long. Each time you\n",
      "remove a letter from it, it still remains a\n",
      "common English word - from seven\n",
      "letters right on down to a single letter.\n",
      "What is the original word, and what are\n",
      "the words that it becomes after\n",
      "removing a letter at a time?\n"
     ]
    }
   ],
   "source": [
    "img7 = Image.open('./assets/7.png')\n",
    "text = pytesseract.image_to_string(img7, lang='eng')\n",
    "print(text)"
   ]
  },
  {
   "cell_type": "markdown",
   "metadata": {},
   "source": [
    "<img src=\"./assets/8.jpg\" alt=\"drawing\" width=\"300\"/>"
   ]
  },
  {
   "cell_type": "code",
   "execution_count": 9,
   "metadata": {},
   "outputs": [
    {
     "name": "stdout",
     "output_type": "stream",
     "text": [
      "Dysania\n",
      "the state of finding\n",
      "it hard to get out of\n",
      "bed in.the morning\n"
     ]
    }
   ],
   "source": [
    "img8 = Image.open('./assets/8.jpg')\n",
    "text = pytesseract.image_to_string(img8, lang='eng')\n",
    "print(text)"
   ]
  },
  {
   "cell_type": "markdown",
   "metadata": {},
   "source": [
    "<img src=\"./assets/9.jpg\" alt=\"drawing\" width=\"300\"/>\n",
    "\n",
    "- Dark colour \n",
    "- Font"
   ]
  },
  {
   "cell_type": "code",
   "execution_count": 10,
   "metadata": {},
   "outputs": [
    {
     "name": "stdout",
     "output_type": "stream",
     "text": [
      "Borrowing words from other languages is\n",
      "characteristic of English throughout its\n",
      "history. More than two thirds of the\n",
      "English vocabulary are borrowings.\n",
      "Mostly they are words of Romanic origin\n",
      "(Latin, French, Italian, Spanish).\n",
      "Borrowed words are different from native\n",
      "ones by their phonetic structure, by their\n",
      "morphological structure and also by thetr\n",
      "grammatical forms.\n"
     ]
    }
   ],
   "source": [
    "img9 = Image.open('./assets/9.jpg')\n",
    "text = pytesseract.image_to_string(img9, lang='eng')\n",
    "print(text)"
   ]
  },
  {
   "cell_type": "markdown",
   "metadata": {},
   "source": [
    "<img src=\"./assets/10.jpg\" alt=\"drawing\" width=\"300\"/>\n",
    "\n",
    "- Dark colour"
   ]
  },
  {
   "cell_type": "code",
   "execution_count": 11,
   "metadata": {},
   "outputs": [
    {
     "name": "stdout",
     "output_type": "stream",
     "text": [
      "Read Part C again and think about the following\n",
      "questions.\n",
      "\n",
      "1. Which words are borrowed from Italian?\n",
      "\n",
      "2. What was Italy famous for in the 18th century?\n",
      "3. What does the writer think of the Germans?\n",
      "\n",
      "4. Which words are borrowed from German?\n",
      "\n",
      "5. What were the Arabs great for?\n"
     ]
    }
   ],
   "source": [
    "img10 = Image.open('./assets/10.jpg')\n",
    "text = pytesseract.image_to_string(img10, lang='eng')\n",
    "print(text)"
   ]
  },
  {
   "cell_type": "markdown",
   "metadata": {},
   "source": [
    "<img src=\"./assets/11.png\" alt=\"drawing\" width=\"300\"/>"
   ]
  },
  {
   "cell_type": "code",
   "execution_count": 12,
   "metadata": {},
   "outputs": [
    {
     "name": "stdout",
     "output_type": "stream",
     "text": [
      "Area of Overlap\n",
      "loU =\n",
      "\n",
      "Area of Union\n"
     ]
    }
   ],
   "source": [
    "img11 = Image.open('./assets/11.png')\n",
    "text = pytesseract.image_to_string(img11, lang='eng')\n",
    "print(text)"
   ]
  },
  {
   "cell_type": "markdown",
   "metadata": {},
   "source": [
    "# Simplified Chinese"
   ]
  },
  {
   "cell_type": "markdown",
   "metadata": {},
   "source": [
    "<img src=\"./assets/12.png\" alt=\"drawing\" width=\"300\"/>"
   ]
  },
  {
   "cell_type": "code",
   "execution_count": 13,
   "metadata": {},
   "outputs": [
    {
     "name": "stdout",
     "output_type": "stream",
     "text": [
      "【 | 皇 许 水 河\n",
      "2 初\n",
      "\n",
      "     \n",
      "\n",
      "0 沥 育 刑 .才匕京 】′\n",
      "园 ′ P 0 刑′ 番 .\n"
     ]
    }
   ],
   "source": [
    "img12 = Image.open('./assets/12.png')\n",
    "text = pytesseract.image_to_string(img12, lang='chi_sim')\n",
    "print(text)"
   ]
  },
  {
   "cell_type": "markdown",
   "metadata": {},
   "source": [
    "**This is using Traditional Chinese**"
   ]
  },
  {
   "cell_type": "code",
   "execution_count": 14,
   "metadata": {},
   "outputs": [
    {
     "name": "stdout",
     "output_type": "stream",
     "text": [
      "刨 新 成 果 粽 化 与 安 下 政 策 解 逵\n",
      "夸 家 炳 接 志\n",
      "\n",
      "     \n",
      "\n",
      "國 7 閭 郎 吳 日 ˙才匕京 ﹕〝\n",
      "暐 ′ ﹒ j ˍˍ′‥筌ˍ 副 華\n"
     ]
    }
   ],
   "source": [
    "img12_tra = Image.open('./assets/12.png')\n",
    "text = pytesseract.image_to_string(img12_tra, lang='chi_tra')\n",
    "print(text)"
   ]
  },
  {
   "cell_type": "markdown",
   "metadata": {},
   "source": [
    "<img src=\"./assets/13.jpg\" alt=\"drawing\" width=\"300\"/>"
   ]
  },
  {
   "cell_type": "code",
   "execution_count": 15,
   "metadata": {},
   "outputs": [
    {
     "name": "stdout",
     "output_type": "stream",
     "text": [
      "安 全 规 范 遵 循 说 明\n",
      "\n",
      "在 开 始 执 行 任 何 操 作 过 程 之 前 , 请 先 阅 读 本 节 内 容 。 下 文 介 组 了 安 装 Oracle 产 品 时 应 造 守 的 安 全 防 范 措 施 。\n",
      "\n",
      "安 全 防 范 措 施\n",
      "\n",
      "为 保 证 您 的 人 身 安 全 , 请 在 安 装 诱 备 时 遮 守 以 下 安 全 防 范 措 施 :\n",
      "\n",
      "日 请 遮 守 设 备 上 标 注 的 所 有 注 意 事 项 和 说 明 。\n",
      "\n",
      "日 确 保 电 源 的 电 压 和 频 率 与 设 备 电 气 颛 定 值 标 签 上 标 示 的 电 压 和 频 率 相 符 -\n",
      "\n",
      "日 切 勿 通 过 设 备 的 开 口 塞 入 任 何 物 品 。 可 能 存 在 危 险 电 序 。 具 有 导 电 性 的 外 部 物 品 有 可 能 会 造 成 短 路 , 进 而 引 起\n",
      "火 灾 、 电 击 或 设 备 损 坏 。\n",
      "\n",
      "日 木 产 品 用 于 限 制 访 问 , 通 过 使 用 安 全 手 段 ( 例 如 , 钢 匙 、 锁 、 工 具 以 及 识 别 卡 访 问 》 对 访 问 迹 行 控 制 , 干 且 已 对\n",
      "授 权 访 闰 的 人 员 说 明 了 限 制 访 问 的 原 因 以 及 需 要 采 取 的 防 范 措 施\n",
      "\n",
      "日 请 勿 将 此 产 品 直 接 连 接 到 室 外 金 属 信 号 电 练 。 将 诗 产 品 连 接 到 室 外 金 属 通 信 电 缆 时 , 请 务 必 使 用 专 用 于 直 接 连 接\n",
      "到 室 外 金 属 信 号 电 缄 的 保 护 设 备 ( 例 如 交 换 机 或 路 由 器 ) , 或 者 在 离 开 建 筑 物 时 使 用 非 金 属 信 号 电 缘\n",
      "\n",
      "日 请 勿 将 此 产 品 直 接 连 接 到 室 外 电 源 电 缆\n",
      "口 对 于 交 流 电 源 , 请 仅 将 该 产 品 连 接 到 对 交 流 电 源 使 用 限 流 断 路 器 的 宦 内 配 电 系 统 -\n",
      "。 对 于 直 流 电 源 , 请 仅 将 该 产 品 连 接 到 完 全 位 于 一 座 建 筑 物 中 的 接 地 电 源 系 统\n"
     ]
    }
   ],
   "source": [
    "img13 = Image.open('./assets/13.jpg')\n",
    "text = pytesseract.image_to_string(img13, lang='chi_sim')\n",
    "print(text)"
   ]
  },
  {
   "cell_type": "markdown",
   "metadata": {},
   "source": [
    "<img src=\"./assets/14.jpg\" alt=\"drawing\" width=\"300\"/>"
   ]
  },
  {
   "cell_type": "code",
   "execution_count": 16,
   "metadata": {},
   "outputs": [
    {
     "name": "stdout",
     "output_type": "stream",
     "text": [
      "2000)\n",
      "\n",
      "人 园 伟沙 l\n",
      "\n",
      "医 保 、 医 疗 、 医 药 连 环 政 策 下\n",
      "奎药医疗器械企业该何去何从\n",
      "\n",
      "ssczHi\n"
     ]
    }
   ],
   "source": [
    "img14 = Image.open('./assets/14.jpg')\n",
    "text = pytesseract.image_to_string(img14, lang='chi_sim')\n",
    "print(text)"
   ]
  },
  {
   "cell_type": "markdown",
   "metadata": {},
   "source": [
    "<img src=\"./assets/15.jpg\" alt=\"drawing\" width=\"300\"/>"
   ]
  },
  {
   "cell_type": "code",
   "execution_count": 17,
   "metadata": {},
   "outputs": [
    {
     "name": "stdout",
     "output_type": "stream",
     "text": [
      "政 务 公 开 办 公 室\n",
      "\n",
      "教 育 部\n",
      "\n",
      " \n",
      "\n",
      "政 府 信 息 公 开 申 请 告 知 书\n",
      "\n",
      "敏 公 开 告 (2020) 第 125 号\n",
      "\n",
      "岑 智 志 惧\n",
      "| 怡 紫 奶\n",
      "十 门 一 叛\n",
      "用 性 鞘 耿\n",
      "毓 耿 恤 埕\n",
      "一 开 影 焦\n",
      "志 总 匹 吸\n",
      "姚 月 匹 一\n",
      "\n",
      "帕 道 超 途 妓 蟹 ,- 口 侬 卵\n",
      "真 聪 不 明 怡 “ 匕 岑 芸 影 耿\n",
      "'层放舶发与如四 。 滔 影\n",
      "紫 氓 广 君 Re 制 十 广 意 工\n",
      "申学新停文读答第公明7\n",
      "广 坤 惊 冗 创 霸 肌 一 巾 万 匹\n",
      "心 昊 梁 粕 不 血 志 至 人 献\n",
      "蚊 屿 框 启 们 程 醛 岑 - 怡 一\n",
      "超 述 彰 笑 鸳 剧 s 水 棣 河 婵 庆 广 左 聘\n",
      "家 万 “ 梁 林 盟 , 浩 - 呆 。Qt<Af 十 开\n",
      "胡 旨 气 林东 性 政 城 厢 佐 不 蚊 蚊 小 |\n",
      "宏 吕 =队的舱联信国问台附信信起第\n",
      "寸 员 驿 “ 水 君 张 途 区 猪 獠 民 庭 怔 左 怀\n",
      "愁 怡 埕 “ 罡 运 罡 首 朱浩 病 憎 醇 酥 刁 怅\n",
      "交暂的问知暂， 国 匹 姑 希 精 四 恒 制 志\n",
      "骠 即 场 王 咤 “ 刹 晚 魏 巾 枷 裂 晚 光 姓 医\n",
      "弯 一 彬 返 伟 一 关 狄 匹 串 瓢 区 欣 农 养诉\n",
      "0 狄 总 袖 河 吴 随 熙 柳 “ 吴 长 一 吴\n",
      "你矸这就工决正人三内参应人为收个\n",
      "高 符 、 中 土罪 兆 办 “ 医 紫 区 办 人 二 长\n",
      ". 惧 伴 趟 税 献 框 霍 化 | 工 - 差 立 芸 历 规\n",
      "一 冲 影 丨 刑 魅 瓢 口 一 道 〔 曾 盅 一 县 家\n",
      "X 吴 一 吊 刑 稳 “ 利 联 没 l 怡 考 耿 - 翟 。\n",
      "E 赴毕台4生根请第府访根定权议 。\n",
      "\n",
      "宗 伟 “ 述 李 兄 医\n",
      "伟\n",
      "\n",
      "   \n",
      "\n",
      "英 _t一写宅j簪醴′9婆7/\n",
      "\n",
      "d\n",
      "\\\n",
      "\n",
      "/iyb _xwfb/\n",
      "40945.html .′\n",
      "\n",
      ".gove\n",
      "7 4\n",
      "\n",
      "感 谢 你 对 教 育 事 业 的 关 心 和 支 持\n",
      "202004/2020040\n",
      "\n",
      "陲 件 ; http:/hywwmoe\n"
     ]
    }
   ],
   "source": [
    "img15 = Image.open('./assets/15.jpg')\n",
    "text = pytesseract.image_to_string(img15, lang='chi_sim')\n",
    "print(text)"
   ]
  },
  {
   "cell_type": "markdown",
   "metadata": {},
   "source": [
    "<img src=\"./assets/16.jpeg\" alt=\"drawing\" width=\"300\"/>"
   ]
  },
  {
   "cell_type": "code",
   "execution_count": 18,
   "metadata": {},
   "outputs": [
    {
     "name": "stdout",
     "output_type": "stream",
     "text": [
      "「 中 宣 部 已 紧 急\n",
      "通 知 “ 了 中 国 大 陆 各\n",
      "主 流 媒 体 , 要 求 所\n",
      "有 宣 扬 中 国 抗 疫 如\n",
      "何 了 不 起 , 而 外 国\n",
      "抗 疫 如 何 不 堪 , 的\n",
      "宣 传 立 即 刹 车 “,\n",
      "并 称 这 是 高 层 根 据\n",
      "霆蛰作出的痛苦决\n"
     ]
    }
   ],
   "source": [
    "img16 = Image.open('./assets/16.jpeg')\n",
    "text = pytesseract.image_to_string(img16, lang='chi_sim')\n",
    "print(text)"
   ]
  },
  {
   "cell_type": "markdown",
   "metadata": {},
   "source": [
    "<img src=\"./assets/17.jpg\" alt=\"drawing\" width=\"300\"/>"
   ]
  },
  {
   "cell_type": "code",
   "execution_count": 19,
   "metadata": {},
   "outputs": [
    {
     "name": "stdout",
     "output_type": "stream",
     "text": [
      "翩 一 弛 弛 心 120\n",
      "“ 花 姐 应 该 去 看 看 民 航 局 微 博 底 下 的 留 言 超 大\n",
      "型 翻 车 现 场 留 学 生 的 血 与 泪\n",
      "\n",
      " \n",
      "\n",
      "作 者 吊 友 7\n",
      "看 了 。 本 来 这 篇 文 章 还 想 贴 呢 。\n",
      "一 粥 粥 [ 血\n",
      "\n",
      "今 天 民 航 局 直 接 关 闭 微 博 评 论 了 一 一 “ 只 要 我\n",
      "看 不 到 就 是 你 们 的 诉 求 不 存 在 。 “ 现 在 转 发 开\n",
      "始 变 得 精 彩 。\n"
     ]
    }
   ],
   "source": [
    "img17 = Image.open('./assets/17.jpg')\n",
    "text = pytesseract.image_to_string(img17, lang='chi_sim')\n",
    "print(text)"
   ]
  },
  {
   "cell_type": "markdown",
   "metadata": {},
   "source": [
    "<img src=\"./assets/18.png\" alt=\"drawing\" width=\"300\"/>"
   ]
  },
  {
   "cell_type": "code",
   "execution_count": 20,
   "metadata": {},
   "outputs": [
    {
     "name": "stdout",
     "output_type": "stream",
     "text": [
      "中 国 民 航 局 副 局 长 称 在 外 控 输 入 有 效 前 提\n",
      "下 考 虑 适 当 增 加 航 班\n",
      "\n",
      "ReurersSatt 13 血\n",
      "\n",
      "踹 透 北 京 s 月 27 日 - 全 国 政 协 委 员 、 中 国 民 航 局 副 局 长 李 健 日 前 表 示 , 当 前 由 于 国 际 疫 情 情 况 软\n",
      "复 朱 , 在 国 仍 然 有 一 段 绞 长 的 不 确 定 期 , 但 因 市 场 有 霁 求 , 民 航 局 将 保 持 在 中 国 国 内 对\n",
      "境 外 输 入 有 效 控 制 的 前 提 下 , 会 考 府 适 当 增 加 航 班\n",
      "\n",
      " \n",
      "\n",
      " \n",
      "\n",
      "中 国 新 闻 网 周 三 捷 引 对 李 健 b 5,“ 五 个 一 政 策 的 最 大 计 划 量 是 134 班 , 扩 大 到 g 月 1 号 准\n",
      "备 要 执 行 的 航 班 量 将 达 到 407 班 , 实 际 执 行 量 受 航 线 市 场 囚 素 影 响 将 少 于 407 玺 。\n",
      "\n",
      " \n",
      "\n",
      "“ 二 个 一 “ 政 策 是 基 于 3 月 12 日 国 际 症 情 情 泓 较 复 杂 , 民 航 局 在 3 月 26 日 制 定 、 并 于 3 月\n",
      "空 公 司 一 周 一 条 航 线 个顺班”:\n",
      "\n",
      "揪 他 介 绍\n",
      "29 日 执 行 的 原 则 , 即 * 一 国 一 个\n",
      "\n",
      "   \n",
      "\n",
      " \n",
      "\n",
      "羔 国 政 府 上 周 五 晚 间 指 控 中 国 阻 挠 芒 国 的 航 空 公 司 恢 复 往 来 中 国 的 航 班 , 同 时 要 求 四 家 中 国 航\n",
      "窄 公 司 向 美 国 政 府 提 交 航 班 时 剂 表 。 ( 完\n"
     ]
    }
   ],
   "source": [
    "img18 = Image.open('./assets/18.png')\n",
    "text = pytesseract.image_to_string(img18, lang='chi_sim')\n",
    "print(text)"
   ]
  },
  {
   "cell_type": "markdown",
   "metadata": {},
   "source": [
    "**This is using Traditional Chinese**"
   ]
  },
  {
   "cell_type": "code",
   "execution_count": 21,
   "metadata": {},
   "outputs": [
    {
     "name": "stdout",
     "output_type": "stream",
     "text": [
      "中 回 民 航 局 副 局 怡 郡 在 外 控 糅 入 有 效 前 提\n",
      "下 考 慕 逅 3 增 加 航 班\n",
      "\n",
      "K I 單\n",
      "\n",
      "路 這 北 京 5 月 27 日 ﹣ 全 因 政 防 委 呂 、 中 因 民 航 局 剛 屈 長 李 健 日 前 表 示 ， 古 前 由 于 因 陀 疾 情 情 況 絲\n",
      "复 余 ， 在 因 R 介 然 有 一 段 綁 長 的 不 硯 定 期 ， 但 因 市 地 有 霍 求 ， 民 航 局 特 保 持 在 中 因 因 內 刊\n",
      "境 外 糕 入 有 效 控 制 的 前 提 F， 以 考 虐 這 勿 增 加 航 班\n",
      "\n",
      " \n",
      "\n",
      " \n",
      "\n",
      "巾 因 新 閘 罕 周 三 援 引 刊 李 借 [ D9 ” 扭 伐 一 故 篆 的 最 大 示 划 符 是 134 班 ， 扒 大 到 6 月 1 下 液\n",
      "吹 要 折 行 的 航 班 量 特 迭 到 407 班 ， 宏 陀 折 行 春 受 航 絃 市 坤 因 素 影 啕 格 少 手 40 班 ，\n",
      "\n",
      " \n",
      "\n",
      "哂 伐 敘 策 是 基 于 3 月 12 日 因 除 疾 情 情 況 絲 复 余 ， 民 航 局 在 3 月 26 日 制 定 、 亙 于 3 月\n",
      "空 公 司 一 周 一 細 航 絆 介岫班\"=\n",
      "\n",
      "搏 令 介 組\n",
      "39 日 折 行 的 原 則 ， 即 ” 一 因 一\n",
      "\n",
      "   \n",
      "\n",
      " \n",
      "\n",
      "美 回 政 府 上 周 五 哭 回 指 控 中 因 附 掛 美 因 的 航 空 公 司 恢 复 往 來 中 因 的 航 班 ， 同 財 要 求 四 家 中 因 航\n",
      "空 公 司 肉 美 回 政 府 提 交 笑 班 責 列 表 。 ( 完 ﹚\n"
     ]
    }
   ],
   "source": [
    "img18_tra = Image.open('./assets/18.png')\n",
    "text = pytesseract.image_to_string(img18_tra, lang='chi_tra')\n",
    "print(text)"
   ]
  }
 ],
 "metadata": {
  "kernelspec": {
   "display_name": "Python 3",
   "language": "python",
   "name": "python3"
  },
  "language_info": {
   "codemirror_mode": {
    "name": "ipython",
    "version": 3
   },
   "file_extension": ".py",
   "mimetype": "text/x-python",
   "name": "python",
   "nbconvert_exporter": "python",
   "pygments_lexer": "ipython3",
   "version": "3.6.9"
  }
 },
 "nbformat": 4,
 "nbformat_minor": 2
}
