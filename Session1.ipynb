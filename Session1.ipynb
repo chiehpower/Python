{
 "cells": [
  {
   "cell_type": "code",
   "execution_count": 1,
   "metadata": {},
   "outputs": [],
   "source": [
    "import numpy as np\n",
    "import matplotlib.pyplot as plt\n",
    "import os"
   ]
  },
  {
   "cell_type": "markdown",
   "metadata": {},
   "source": [
    "# Find the current path\n",
    "If your script is `.py` file, then you can put `__file__`.\n",
    "```\n",
    "currentPath = os.path.dirname(os.path.abspath(__file__))\n",
    "```"
   ]
  },
  {
   "cell_type": "code",
   "execution_count": 2,
   "metadata": {},
   "outputs": [
    {
     "name": "stdout",
     "output_type": "stream",
     "text": [
      "/home/chieh/github\n",
      "/home/chieh/github/Python_demonstration\n"
     ]
    }
   ],
   "source": [
    "currentPath = os.path.dirname(os.path.abspath(''))\n",
    "DocumentPath = os.path.abspath(os.path.dirname(''))\n",
    "print(currentPath)\n",
    "print(DocumentPath)"
   ]
  },
  {
   "cell_type": "markdown",
   "metadata": {},
   "source": [
    "# Add the new path"
   ]
  },
  {
   "cell_type": "code",
   "execution_count": 3,
   "metadata": {},
   "outputs": [
    {
     "name": "stdout",
     "output_type": "stream",
     "text": [
      "/home/chieh/github/Example.png\n"
     ]
    }
   ],
   "source": [
    "file_name = 'Example.png'\n",
    "image_path = os.path.join(currentPath, file_name)\n",
    "print(image_path)"
   ]
  },
  {
   "cell_type": "markdown",
   "metadata": {},
   "source": [
    "# Create the directory if it doesn't exist"
   ]
  },
  {
   "cell_type": "code",
   "execution_count": 4,
   "metadata": {},
   "outputs": [],
   "source": [
    "folder = 'assets'\n",
    "folder_path = os.path.join(DocumentPath, folder)\n",
    "if not os.path.isdir(folder_path):\n",
    "    os.mkdir(folder_path)\n",
    "    print(folder_path)"
   ]
  },
  {
   "cell_type": "markdown",
   "metadata": {},
   "source": [
    "# Plot the graph\n",
    "**plt.close() is really important.**\n",
    "\n",
    "It is only a simple example.\n",
    "\n",
    "I just wanna meation that don't forget to close the plt if you have many images."
   ]
  },
  {
   "cell_type": "code",
   "execution_count": 5,
   "metadata": {},
   "outputs": [],
   "source": [
    "def outplt(x, y, name):\n",
    "    currentPath = os.path.dirname(os.path.abspath(__file__))\n",
    "    path = os.path.join(currentPath, 'graph')\n",
    "    if not os.path.isdir(path):\n",
    "        os.mkdir(path)\n",
    "\n",
    "    plt.scatter(x[0], x[1],c = 'r', marker='^')\n",
    "    plt.scatter(y[0], y[1],c = 'b',  marker='+')\n",
    "\n",
    "    t = ('words.')\n",
    "    plt.text(100, 100, t, ha='left',style='italic', wrap=True,fontsize=8)\n",
    "\n",
    "    z = x + y\n",
    "    Title = str(name[0])\n",
    "    plt.title(Title)\n",
    "    plt.imshow(third)\n",
    "    file_name = str(name[0])+'.png'\n",
    "\n",
    "    image_path = os.path.join(path, file_name)\n",
    "    plt.savefig(image_path)\n",
    "    \n",
    "    # Really important... LOL\n",
    "    plt.close()"
   ]
  },
  {
   "cell_type": "markdown",
   "metadata": {},
   "source": [
    "# Save the information as a txt file"
   ]
  },
  {
   "cell_type": "code",
   "execution_count": 6,
   "metadata": {},
   "outputs": [],
   "source": [
    "ResultsPath = 'Results.txt'\n",
    "fp = open(ResultsPath,'w')\n",
    "fp.write(\"It is the result.\\n\")\n",
    "fp.close()"
   ]
  },
  {
   "cell_type": "markdown",
   "metadata": {},
   "source": [
    "# Reference\n",
    "1. https://github.com/dokelung/Python-QA/blob/master/questions/standard_lib/Python%20%E7%8D%B2%E5%8F%96%E6%96%87%E4%BB%B6%E8%B7%AF%E5%BE%91%E5%8F%8A%E6%96%87%E4%BB%B6%E7%9B%AE%E9%8C%84(__file__%20%E7%9A%84%E4%BD%BF%E7%94%A8%E6%96%B9%E6%B3%95).md\n",
    "2. https://blog.mazhangjing.com/2018/02/28/learn_matplotlib/"
   ]
  }
 ],
 "metadata": {
  "kernelspec": {
   "display_name": "Python 3",
   "language": "python",
   "name": "python3"
  },
  "language_info": {
   "codemirror_mode": {
    "name": "ipython",
    "version": 3
   },
   "file_extension": ".py",
   "mimetype": "text/x-python",
   "name": "python",
   "nbconvert_exporter": "python",
   "pygments_lexer": "ipython3",
   "version": "3.6.9"
  }
 },
 "nbformat": 4,
 "nbformat_minor": 2
}
